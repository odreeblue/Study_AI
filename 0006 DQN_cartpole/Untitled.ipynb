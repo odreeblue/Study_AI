{
 "cells": [
  {
   "cell_type": "code",
   "execution_count": 1,
   "id": "ea2c2771",
   "metadata": {},
   "outputs": [],
   "source": [
    "import random \n",
    "import torch\n",
    "from torch import nn\n",
    "from torch import optim\n",
    "import torch.nn.functional as F\n",
    "import numpy as np\n",
    "import matplotlib.pyplot as plt\n",
    "import gym\n",
    "# 1. 애니메이션을 만들기\n",
    "from JSAnimation.IPython_display import display_animation\n",
    "from matplotlib import animation\n",
    "from IPython.display import display\n",
    "def display_frames_as_gif(frames):\n",
    "    \"\"\"\n",
    "    Displays a list of frames as a gif , with controls\n",
    "    \"\"\"\n",
    "\n",
    "    plt.figure(figsize=(frames[0].shape[1]/72.0, frames[0].shape[0]/72.0), dpi=72)\n",
    "    patch = plt.imshow(frames[0])\n",
    "    plt.axis('off')\n",
    "\n",
    "    def animate(i):\n",
    "        patch.set_data(frames[i])\n",
    "\n",
    "    anim = animation.FuncAnimation(plt.gcf(), animate, frames=len(frames), interval=50)\n",
    "    anim.save('movie_cartpole.gif') # The part where i save the animation\n",
    "    display(display_animation(anim, default_mode = 'loop'))\n",
    "\n",
    "# 2. 이 코드에서는 namedtuple을 사용함\n",
    "# named tuple을 사용하면 키-값 쌍 형태로 값을 저장할 수 있음\n",
    "# 그리고 키를 필드명으로 값에 접근 할 수 있어 편리함\n",
    "from collections import namedtuple\n",
    "#Tr = namedtuple('tr', ('name_a', 'value_b'))\n",
    "#Tr_object = Tr('이름A',100) # 출력 : tr(name_a='이름A', value_b=100)\n",
    "#print(Tr_object.name_a)  # 출력 : 100\n",
    "#print(Tr_object.name_a)  # 출력 : 이름A\n",
    "Transition = namedtuple('Transition',('state','action','next_state','reward'))\n",
    "\n",
    "# 3. 상수 정의\n",
    "ENV = 'CartPole-v0' # 태스크 이름\n",
    "GAMMA  = 0.99 # 시간 할인율\n",
    "MAX_STEPS =200 #  1에피소드 당 최대 단계 수\n",
    "NUM_EPISODES = 500 # 최대 에피소드 수\n",
    "\n",
    "# 4. Transition을 저장하기 위한 메모리 클래스\n",
    "class ReplayMemory:\n",
    "        def __init__(self, CAPACITY): # 생성자\n",
    "                self.capacity = CAPACITY # 메모리의 최대 저장 건수 ex. 10000\n",
    "                self.memory = [] #실제 Transition을 저장할 변수\n",
    "                self.index = 0 # 저장 위치를 가르칠 인덱스 변수\n",
    "        def push(self, state, action, state_next, reward):\n",
    "                '''transition = (state, action, state_next, reward)을 메모리에 저장'''\n",
    "                if len(self.memory) < self.capacity: # ex ) 100개 < 10000개 일 때\n",
    "                        self.memory.append(None) # 메모리가 가득 차지 않은 경우, memory 마지막에 None을 추가함\n",
    "                # Transition이라는 namedtuple을 사용해 키-값 쌍의 형태로 값을 저장\n",
    "                self.memory[self.index] = Transition(state, action, state_next, reward)\n",
    "\n",
    "                # 다음 저장할 위치를 한 자리 뒤로 수정\n",
    "                self.index = (self.index+1) % self.capacity # %연산자(나머지), 1/10000 = 1, 2/10000 = 2\n",
    "                \n",
    "        def sample(self, batch_size):\n",
    "                ''' batch_size 개수 만큼 무작위로 저장된 transition을 추출'''\n",
    "                return random.sample(self.memory, batch_size)\n",
    "        \n",
    "        def __len__(self):\n",
    "                '''len 함수로 현재 저장된 transition 개수를 반환'''\n",
    "                return len(self.memory)\n",
    "\n",
    "# 5. 에이전트의 두뇌 역할을 하는 클랫, DQN을 실제 수행함 ###\n",
    "# Q 함수를 딥러닝 신경망 형태로 정의\n",
    "import random \n",
    "import torch\n",
    "from torch import nn\n",
    "from torch import optim\n",
    "import torch.nn.functional as F\n",
    "\n",
    "BATCH_SIZE = 32\n",
    "CAPACITY = 10000\n",
    "\n",
    "class Brain:\n",
    "        def __init__(self, num_states, num_actions):\n",
    "                self.num_actions = num_actions # 행동의 가짓수 (오른쪽, 왼쪽)을 구함\n",
    "                \n",
    "                #transition을 기억하기 위한 메모리 객체 생성\n",
    "                self.memory = ReplayMemory(CAPACITY)\n",
    "                \n",
    "                ###신경망 구성\n",
    "                self.model = nn.Sequential()\n",
    "\n",
    "                self.model.add_module('fc1',nn.Linear(num_states, 32)) # 4 X 32 matrix\n",
    "                self.model.add_module('relu1', nn.ReLU()) # 4 X 32 matrix에 ReLU 함수\n",
    "\n",
    "                self.model.add_module('fc2',nn.Linear(32, 32)) # 32 X 32 matrix\n",
    "                self.model.add_module('relu2',nn.ReLU()) # 32 X 32 marix에 ReLU 함수\n",
    "\n",
    "                self.model.add_module('fc3',nn.Linear(32, num_actions)) # 32 X 2 matrix -> 출력 2개\n",
    "                print(self.model) # 신경망 구조 출력\n",
    "\n",
    "                ###최적화 기법 선택\n",
    "                self.optimizer = optim.Adam(self.model.parameters(), lr = 0.0001)\n",
    "        \n",
    "        def replay(self):\n",
    "                \"\"\"Experience Replay'로 신경망의 결합 가중치 학습\"\"\"\n",
    "                #----------------------------------------------------\n",
    "                # 1. 저장된 transition 수 확인\n",
    "                #----------------------------------------------------\n",
    "                # 1.1 저장된 transition의 수가 미니배치 크기보다 작으면 아무것도 하지 않음\n",
    "                if len(self.memory) < BATCH_SIZE:\n",
    "                        return\n",
    "\n",
    "                #----------------------------------------------------\n",
    "                # 2 미니 배치 생성\n",
    "                #----------------------------------------------------\n",
    "                # 2.1 메모리 객체에서 미니배치를 추출\n",
    "                transitions = self.memory.sample(BATCH_SIZE)\n",
    "\n",
    "                # 2.2 메모리 객체에서 미니배치를 추출\n",
    "                # transitions는 각 단계 별로 (state, action, state_next, reward) 형태로 BATCH_SIZE 개수만큼 저장됨\n",
    "                # 다시 말해 (state, action, state_next, reward) * BATCH_SIZE 형태가 된다\n",
    "                # 이를 미니배치로 만들기 위해\n",
    "                # (state * BATCH_SIZE, action * BATCH_SIZE, state_next * BATCH_SIZE, reward * BATCH_SIZE) 형태로 변환함\n",
    "                batch = Transition(*zip(*transitions))# Transition = namedtuple 임\n",
    "                # ex. [[1,2,3,4],[1,2,3,4],[1,2,3,4]] --> Transition(state=(1, 1, 1), action=(2, 2, 2), next_state=(3, 3, 3), reward=(4, 4, 4))\n",
    "\n",
    "                # 2.3 각 변수의 요소를 미니배치에 맞게 변형하고, 신경망으로 다룰 수 있게 Variable로 만든다\n",
    "                # state로 예를 들면, [torch.FloatTensor of size 1*4] 형태의 요소가 BATCH_SIZE 개수만큼 있는 형태임\n",
    "                # 이를 torch.FloatTensor of size BATCH_SIZE * 4 형태로 변형한다\n",
    "                # 상태, 행동, 보상, non_final 상태로 된 미니배치를 나타내는 Variable을 생성\n",
    "                # cat은 Concatenates(연접)을 의미함\n",
    "                \n",
    "                state_batch = torch.cat(batch.state)\n",
    "                action_batch = torch.cat(batch.action)\n",
    "                reward_batch = torch.cat(batch.reward)\n",
    "                non_final_next_states = torch.cat([s for s in batch.next_state if s is not None])\n",
    "                \n",
    "                #----------------------------------------------------\n",
    "                # 3 정답신호로 사용할 Q(s_t, a_t)를 계산  \n",
    "                #----------------------------------------------------\n",
    "                # 3.1 신경망을 추론 모드로 전환\n",
    "                self.model.eval()# 신경망 업데이트 안됨\n",
    "\n",
    "                # 3.2 신경망으로 Q(s_t,a_t)를 계산\n",
    "                # self.model(state_batch)은 왼쪽, 오른쪽에 대한 Q값을 출력하며 [torch.FloatTensor of size BATCH_SIZE x 2] 형태\n",
    "                # 여기서부터는 실행한 행동 a_t에 대한 Q값을 계산하므로 action_batch에서 취한 행동 a_t가 왼쪽이냐, 오른쪽이냐에\n",
    "                # 대한 인덱스를 구하고, 이에 대한 Q값을 gater 메서드로 모아온다\n",
    "                state_action_values = self.model(state_batch).gather(1,action_batch)\n",
    "                \n",
    "                # 3.3 max{Q(s_t+1, a)} 값을 계산한다. 이 때 다음 상태가 존재하는지 주의해야 한다.\n",
    "\n",
    "                # cartpole이 done 상태가 아니고, next_state가 존재하는지 확인하는 인덱스마스크를 만듬\n",
    "                non_final_mask = torch.ByteTensor(tuple(map(lambda s: s is not None, batch.next_state)))\n",
    "\n",
    "                # 먼저 전체를 0으로 초기화\n",
    "                next_state_values = torch.zeros(BATCH_SIZE)\n",
    "\n",
    "                # 다음상태가 있는 인덱스에 대한 최대 Q값을 구한다\n",
    "                # 출력에 접근해서 열방향 최댓값(max(1))이 되는 [값, 인덱스]를 구한다\n",
    "                # 이 Q값(인덱스=0)을 출력한 다음 detach 메서드로 이 값을 꺼내온다\n",
    "                next_state_values[non_final_mask] = self.model(non_final_next_states).max(1)[0].detach()\n",
    "\n",
    "                # 3.4 정답 신호로 사용할 Q(s_t, a_t)값을 Q러닝 식으로 계산한다\n",
    "                expected_state_action_values = reward_batch + GAMMA * next_state_values\n",
    "\n",
    "                #----------------------------------------------------\n",
    "                # 4 결합 가중치 수정\n",
    "                #----------------------------------------------------\n",
    "                # 4.1 신경망을 학습 모드로 전환\n",
    "                self.model.train()\n",
    "\n",
    "                # 4.2 손실함수를 계산(smooth_l1_loss는 Huber 함수)\n",
    "                # expected_state_action_values는 size가 [minibatch]이므로 unsqueeze해서 [minibatch*1]로 만든다\n",
    "                loss = F.smooth_l1_loss(state_action_values, expected_state_action_values.unsqueeze(1))\n",
    "\n",
    "                # 4.3 결합 가중치를 수정한다\n",
    "                self.optimizer.zero_grad() # 경사를 초기화\n",
    "                loss.backward() #역전파 계산\n",
    "                self.optimizer.step() # 결합 가중치 수정\n",
    "        \n",
    "        def decide_action(self, state, episode):\n",
    "                '''현재 상태에 따라 행동을 결정한다'''\n",
    "                # e-greedy 알고리즘에서 서서히 최적행동의 비중을 늘린다\n",
    "                epsilon = 0.5 * (1/ (episode+1))\n",
    "\n",
    "                if epsilon <= np.random.uniform(0,1):\n",
    "                        self.model.eval() # 신경망을 추론모드로 전환\n",
    "                        with torch.no_grad():\n",
    "                                action = self.model(state).max(1)[1].view(1,1)\n",
    "                        # 신경망 출력의 최대값에 대한 인덱스 = max(1)[1]\n",
    "                        # .view(1,1)은 [torch.LongTensor of size 1]을 size 1*1로 변환하는 역할\n",
    "                else :\n",
    "                        # 행동을 무작위로 반환(0 혹은 1)\n",
    "                        action = torch.LongTensor([[random.randrange(self.num_actions)]])#행동을 무작위로 반환(0 OR 1)\n",
    "                        # action은 [torch.LongTensor of size 1*1]형태가 된다\n",
    "                return action\n",
    "\n",
    "class Agent:\n",
    "        def __init__(self, num_states, num_actions):\n",
    "                '''태스크의 상태 및 행동의 가짓수를 설정'''\n",
    "                self.brain = Brain(num_states, num_actions) #Agent's brain role in determining behavior\n",
    "\n",
    "        def update_Q_function(self):\n",
    "                '''Modifying the Q function'''\n",
    "                #self.brain.update_Q_table(observation, action, reward, observation_next)\n",
    "                self.brain.replay()\n",
    "\n",
    "        def get_action(self, state, episode):\n",
    "                '''Action Determination'''\n",
    "                #action = self.brain.decide_action(observation, step) \n",
    "                action = self.brain.decide_action(state, episode) \n",
    "                return action                \n",
    "        def memorize(self, state, action, state_next, reward):\n",
    "                '''메모리 객체에 state, action, state_next, reward 내용을 저장'''\n",
    "                self.brain.memory.push(state, action, state_next, reward)\n",
    "                \n"
   ]
  },
  {
   "cell_type": "code",
   "execution_count": 2,
   "id": "735c5c83",
   "metadata": {},
   "outputs": [
    {
     "name": "stdout",
     "output_type": "stream",
     "text": [
      "Sequential(\n",
      "  (fc1): Linear(in_features=4, out_features=32, bias=True)\n",
      "  (relu1): ReLU()\n",
      "  (fc2): Linear(in_features=32, out_features=32, bias=True)\n",
      "  (relu2): ReLU()\n",
      "  (fc3): Linear(in_features=32, out_features=2, bias=True)\n",
      ")\n"
     ]
    }
   ],
   "source": [
    "env = gym.make(ENV) #태스크 설정\n",
    "num_states = env.observation_space.shape[0] # 태스크의 상태 변수 수(4)를 받아옴\n",
    "num_actions = env.action_space.n # 태스크의 행동 가짓수(2)를 받아옴\n",
    "agent = Agent(num_states, num_actions) # 에이전트 역할을 할 객체를 생성"
   ]
  },
  {
   "cell_type": "code",
   "execution_count": 3,
   "id": "679a93a6",
   "metadata": {},
   "outputs": [],
   "source": [
    "episode_10_list = np.zeros(10) # 최근 10 에피소드 동안 버틴 단계수를 저장함 --> 평균 산출용"
   ]
  },
  {
   "cell_type": "code",
   "execution_count": 4,
   "id": "65360d17",
   "metadata": {},
   "outputs": [],
   "source": [
    "complete_episodes = 0 #현재까지 195단계를 버틴 에피소드 수"
   ]
  },
  {
   "cell_type": "code",
   "execution_count": 5,
   "id": "0c1dd7d5",
   "metadata": {},
   "outputs": [],
   "source": [
    "episode_final = False # 마지막 에피소드 여부"
   ]
  },
  {
   "cell_type": "code",
   "execution_count": 6,
   "id": "d0c38142",
   "metadata": {},
   "outputs": [],
   "source": [
    "frames = [] # 애니메이션을 만들기 위해 마지막 에피소드의 프레임을 저장할 배열"
   ]
  },
  {
   "cell_type": "code",
   "execution_count": 7,
   "id": "759ee112",
   "metadata": {},
   "outputs": [
    {
     "name": "stdout",
     "output_type": "stream",
     "text": [
      "tensor([ 0.0149, -0.0464, -0.0011,  0.0426])\n",
      "tensor([[ 0.0149],\n",
      "        [-0.0464],\n",
      "        [-0.0011],\n",
      "        [ 0.0426]])\n",
      "tensor([[1]])\n"
     ]
    }
   ],
   "source": [
    "for episode in range(1): #최대 에피소드 수만큼 반복\n",
    "    observation = env.reset() # 환경 초기화\n",
    "    state = observation # 관측을 변환없이 그대로 상태 s로 사용\n",
    "    state = torch.from_numpy(state).type(torch.FloatTensor) # Numpy변수를 파이토치 텐서로 변환\n",
    "    print(state)\n",
    "    state = torch.unsqueeze(state, 1)# size 4를 size 1*4 로 변환\n",
    "    print(state)\n",
    "    for step in range(1): # 1에피소드에 해당하는 반복문\n",
    "        if episode_final is True : #마지막 에피소드에서는 각 시각의 이미지를 frames에 저장\n",
    "            frames.append(env.render(mode='rgb_array'))\n",
    "        action = agent.get_action(state, episode) # 다음 행동을 결정\n",
    "        print(action)"
   ]
  },
  {
   "cell_type": "code",
   "execution_count": 8,
   "id": "d683528b",
   "metadata": {},
   "outputs": [
    {
     "name": "stdout",
     "output_type": "stream",
     "text": [
      "1\n"
     ]
    }
   ],
   "source": [
    "print(action.item())"
   ]
  },
  {
   "cell_type": "code",
   "execution_count": 9,
   "id": "fcbc38b9",
   "metadata": {},
   "outputs": [],
   "source": [
    "observation_next,_,done,_=env.step(action.item())"
   ]
  },
  {
   "cell_type": "code",
   "execution_count": 10,
   "id": "7a475dca",
   "metadata": {},
   "outputs": [
    {
     "name": "stdout",
     "output_type": "stream",
     "text": [
      "[ 1.3986408e-02  1.4869426e-01 -2.2354268e-04 -2.5039998e-01]\n"
     ]
    }
   ],
   "source": [
    "print(observation_next)"
   ]
  },
  {
   "cell_type": "code",
   "execution_count": 11,
   "id": "e2bc3691",
   "metadata": {},
   "outputs": [
    {
     "name": "stdout",
     "output_type": "stream",
     "text": [
      "False\n"
     ]
    }
   ],
   "source": [
    "print(done)"
   ]
  },
  {
   "cell_type": "code",
   "execution_count": null,
   "id": "7250c7b7",
   "metadata": {},
   "outputs": [],
   "source": []
  }
 ],
 "metadata": {
  "kernelspec": {
   "display_name": "Python 3",
   "language": "python",
   "name": "python3"
  },
  "language_info": {
   "codemirror_mode": {
    "name": "ipython",
    "version": 3
   },
   "file_extension": ".py",
   "mimetype": "text/x-python",
   "name": "python",
   "nbconvert_exporter": "python",
   "pygments_lexer": "ipython3",
   "version": "3.8.8"
  }
 },
 "nbformat": 4,
 "nbformat_minor": 5
}
